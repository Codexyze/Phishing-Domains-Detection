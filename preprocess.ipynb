{
 "cells": [
  {
   "cell_type": "code",
   "execution_count": 1,
   "metadata": {},
   "outputs": [],
   "source": [
    "import pandas as pd\n",
    "data = pd.read_csv(r\"D:\\PyHack-PyAITM-PyHack04-main\\PyHack-PyAITM-PyHack04-main\\Final Project\\Data\\PhiUSIIL_Phishing_URL_Dataset.csv\")\n"
   ]
  },
  {
   "cell_type": "code",
   "execution_count": 2,
   "metadata": {},
   "outputs": [
    {
     "name": "stdout",
     "output_type": "stream",
     "text": [
      "FILENAME                       object\n",
      "URL                            object\n",
      "URLLength                       int64\n",
      "Domain                         object\n",
      "DomainLength                    int64\n",
      "IsDomainIP                      int64\n",
      "TLD                            object\n",
      "URLSimilarityIndex            float64\n",
      "CharContinuationRate          float64\n",
      "TLDLegitimateProb             float64\n",
      "URLCharProb                   float64\n",
      "TLDLength                       int64\n",
      "NoOfSubDomain                   int64\n",
      "HasObfuscation                  int64\n",
      "NoOfObfuscatedChar              int64\n",
      "ObfuscationRatio              float64\n",
      "NoOfLettersInURL                int64\n",
      "LetterRatioInURL              float64\n",
      "NoOfDegitsInURL                 int64\n",
      "DegitRatioInURL               float64\n",
      "NoOfEqualsInURL                 int64\n",
      "NoOfQMarkInURL                  int64\n",
      "NoOfAmpersandInURL              int64\n",
      "NoOfOtherSpecialCharsInURL      int64\n",
      "SpacialCharRatioInURL         float64\n",
      "IsHTTPS                         int64\n",
      "LineOfCode                      int64\n",
      "LargestLineLength               int64\n",
      "HasTitle                        int64\n",
      "Title                          object\n",
      "DomainTitleMatchScore         float64\n",
      "URLTitleMatchScore            float64\n",
      "HasFavicon                      int64\n",
      "Robots                          int64\n",
      "IsResponsive                    int64\n",
      "NoOfURLRedirect                 int64\n",
      "NoOfSelfRedirect                int64\n",
      "HasDescription                  int64\n",
      "NoOfPopup                       int64\n",
      "NoOfiFrame                      int64\n",
      "HasExternalFormSubmit           int64\n",
      "HasSocialNet                    int64\n",
      "HasSubmitButton                 int64\n",
      "HasHiddenFields                 int64\n",
      "HasPasswordField                int64\n",
      "Bank                            int64\n",
      "Pay                             int64\n",
      "Crypto                          int64\n",
      "HasCopyrightInfo                int64\n",
      "NoOfImage                       int64\n",
      "NoOfCSS                         int64\n",
      "NoOfJS                          int64\n",
      "NoOfSelfRef                     int64\n",
      "NoOfEmptyRef                    int64\n",
      "NoOfExternalRef                 int64\n",
      "label                           int64\n",
      "dtype: object\n"
     ]
    }
   ],
   "source": [
    "print(data.dtypes)"
   ]
  },
  {
   "cell_type": "code",
   "execution_count": 5,
   "metadata": {},
   "outputs": [],
   "source": [
    "import pandas as pd\n",
    "\n",
    "# Load the CSV file\n",
    "df = pd.read_csv(r\"D:\\PyHack-PyAITM-PyHack04-main\\PyHack-PyAITM-PyHack04-main\\Final Project\\Data\\PhiUSIIL_Phishing_URL_Dataset.csv\")\n",
    "\n",
    "# Drop the specified columns (replace 'column_name1' and 'column_name2' with the actual column names)\n",
    "df = df.drop(['FILENAME', 'HasObfuscation','LineOfCode','LargestLineLength','HasTitle','Title',\n",
    "              'DomainTitleMatchScore','URLTitleMatchScore','HasFavicon','Robots','IsResponsive','NoOfURLRedirect',\n",
    "              'NoOfSelfRedirect','HasDescription','NoOfPopup','NoOfiFrame','HasExternalFormSubmit',\n",
    "              'HasSocialNet','HasSubmitButton','HasHiddenFields','HasPasswordField','Bank',\n",
    "              'Pay','Crypto','HasCopyrightInfo','NoOfImage','NoOfCSS',\n",
    "              'NoOfJS','NoOfSelfRef','NoOfEmptyRef','NoOfExternalRef'], axis=1)\n",
    "\n",
    "# Save the modified DataFrame to a new CSV file\n"
   ]
  },
  {
   "cell_type": "code",
   "execution_count": 6,
   "metadata": {},
   "outputs": [
    {
     "name": "stdout",
     "output_type": "stream",
     "text": [
      "URL                            object\n",
      "URLLength                       int64\n",
      "Domain                         object\n",
      "DomainLength                    int64\n",
      "IsDomainIP                      int64\n",
      "TLD                            object\n",
      "URLSimilarityIndex            float64\n",
      "CharContinuationRate          float64\n",
      "TLDLegitimateProb             float64\n",
      "URLCharProb                   float64\n",
      "TLDLength                       int64\n",
      "NoOfSubDomain                   int64\n",
      "NoOfObfuscatedChar              int64\n",
      "ObfuscationRatio              float64\n",
      "NoOfLettersInURL                int64\n",
      "LetterRatioInURL              float64\n",
      "NoOfDegitsInURL                 int64\n",
      "DegitRatioInURL               float64\n",
      "NoOfEqualsInURL                 int64\n",
      "NoOfQMarkInURL                  int64\n",
      "NoOfAmpersandInURL              int64\n",
      "NoOfOtherSpecialCharsInURL      int64\n",
      "SpacialCharRatioInURL         float64\n",
      "IsHTTPS                         int64\n",
      "label                           int64\n",
      "dtype: object\n"
     ]
    }
   ],
   "source": [
    "print(df.dtypes)"
   ]
  },
  {
   "cell_type": "code",
   "execution_count": 7,
   "metadata": {},
   "outputs": [],
   "source": [
    "df.to_csv('updated_file.csv', index=False)\n"
   ]
  },
  {
   "cell_type": "code",
   "execution_count": null,
   "metadata": {},
   "outputs": [],
   "source": []
  }
 ],
 "metadata": {
  "kernelspec": {
   "display_name": "Python 3",
   "language": "python",
   "name": "python3"
  },
  "language_info": {
   "codemirror_mode": {
    "name": "ipython",
    "version": 3
   },
   "file_extension": ".py",
   "mimetype": "text/x-python",
   "name": "python",
   "nbconvert_exporter": "python",
   "pygments_lexer": "ipython3",
   "version": "3.12.6"
  }
 },
 "nbformat": 4,
 "nbformat_minor": 2
}
